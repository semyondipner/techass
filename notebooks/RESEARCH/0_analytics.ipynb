{
 "cells": [
  {
   "cell_type": "markdown",
   "metadata": {},
   "source": [
    "# semyondipner"
   ]
  },
  {
   "cell_type": "code",
   "execution_count": 17,
   "metadata": {},
   "outputs": [],
   "source": [
    "# Data Processing\n",
    "import numpy as np\n",
    "import pandas as pd\n",
    "\n",
    "# Datetime operations\n",
    "from datetime import datetime as dt\n",
    "from datetime import timedelta as td\n",
    "\n",
    "# Visualisation\n",
    "import seaborn as sns\n",
    "import matplotlib.pyplot as plt"
   ]
  },
  {
   "cell_type": "code",
   "execution_count": 18,
   "metadata": {},
   "outputs": [
    {
     "data": {
      "text/html": [
       "<div>\n",
       "<style scoped>\n",
       "    .dataframe tbody tr th:only-of-type {\n",
       "        vertical-align: middle;\n",
       "    }\n",
       "\n",
       "    .dataframe tbody tr th {\n",
       "        vertical-align: top;\n",
       "    }\n",
       "\n",
       "    .dataframe thead th {\n",
       "        text-align: right;\n",
       "    }\n",
       "</style>\n",
       "<table border=\"1\" class=\"dataframe\">\n",
       "  <thead>\n",
       "    <tr style=\"text-align: right;\">\n",
       "      <th></th>\n",
       "      <th>date</th>\n",
       "      <th>store_id</th>\n",
       "      <th>item_id</th>\n",
       "      <th>cnt</th>\n",
       "      <th>sell_price</th>\n",
       "      <th>gmv</th>\n",
       "    </tr>\n",
       "  </thead>\n",
       "  <tbody>\n",
       "    <tr>\n",
       "      <th>0</th>\n",
       "      <td>2011-01-29</td>\n",
       "      <td>2</td>\n",
       "      <td>85</td>\n",
       "      <td>3</td>\n",
       "      <td>1.0</td>\n",
       "      <td>3.0</td>\n",
       "    </tr>\n",
       "    <tr>\n",
       "      <th>1</th>\n",
       "      <td>2011-01-30</td>\n",
       "      <td>2</td>\n",
       "      <td>85</td>\n",
       "      <td>8</td>\n",
       "      <td>1.0</td>\n",
       "      <td>8.0</td>\n",
       "    </tr>\n",
       "    <tr>\n",
       "      <th>2</th>\n",
       "      <td>2011-01-31</td>\n",
       "      <td>2</td>\n",
       "      <td>85</td>\n",
       "      <td>0</td>\n",
       "      <td>1.0</td>\n",
       "      <td>0.0</td>\n",
       "    </tr>\n",
       "    <tr>\n",
       "      <th>3</th>\n",
       "      <td>2011-02-01</td>\n",
       "      <td>2</td>\n",
       "      <td>85</td>\n",
       "      <td>3</td>\n",
       "      <td>1.0</td>\n",
       "      <td>3.0</td>\n",
       "    </tr>\n",
       "    <tr>\n",
       "      <th>4</th>\n",
       "      <td>2011-02-02</td>\n",
       "      <td>2</td>\n",
       "      <td>85</td>\n",
       "      <td>0</td>\n",
       "      <td>1.0</td>\n",
       "      <td>0.0</td>\n",
       "    </tr>\n",
       "  </tbody>\n",
       "</table>\n",
       "</div>"
      ],
      "text/plain": [
       "        date  store_id  item_id  cnt  sell_price  gmv\n",
       "0 2011-01-29         2       85    3         1.0  3.0\n",
       "1 2011-01-30         2       85    8         1.0  8.0\n",
       "2 2011-01-31         2       85    0         1.0  0.0\n",
       "3 2011-02-01         2       85    3         1.0  3.0\n",
       "4 2011-02-02         2       85    0         1.0  0.0"
      ]
     },
     "execution_count": 18,
     "metadata": {},
     "output_type": "execute_result"
    }
   ],
   "source": [
    "PATH = r\"./data/\"\n",
    "\n",
    "# Data Downloading\n",
    "sales_df = pd.read_csv(PATH + \"shop_sales\" + \".csv\")\n",
    "dates_df = pd.read_csv(PATH + \"shop_sales_dates\" + \".csv\")\n",
    "price_df = pd.read_csv(PATH + \"shop_sales_prices\" + \".csv\")\n",
    "\n",
    "# Data preparation\n",
    "dates_df[\"date\"] = pd.to_datetime(dates_df[\"date\"])\n",
    "\n",
    "# item_id\n",
    "sales_df[\"item_id\"] = sales_df[\"item_id\"].apply(lambda item: int(item[8:]))\n",
    "price_df[\"item_id\"] = price_df[\"item_id\"].apply(lambda item: int(item[8:]))\n",
    "\n",
    "# store_id\n",
    "sales_df[\"store_id\"] = sales_df[\"store_id\"].apply(lambda item: int(item[6:]))\n",
    "price_df[\"store_id\"] = price_df[\"store_id\"].apply(lambda item: int(item[6:]))\n",
    "\n",
    "link_df = dates_df[[\"date_id\", \"wm_yr_wk\", \"date\"]].copy()\n",
    "link_df = sales_df.merge(link_df, how=\"left\", on=[\"date_id\"])\n",
    "link_df = link_df.merge(price_df, how=\"left\", on=[\"store_id\", \"item_id\", \"wm_yr_wk\"])\n",
    "link_df.drop(columns=[\"wm_yr_wk\", \"date_id\"], inplace=True)\n",
    "df = link_df[[\"date\", \"store_id\", \"item_id\", \"cnt\", \"sell_price\"]].copy()\n",
    "del link_df\n",
    "df[\"gmv\"] = df[\"cnt\"] * df[\"sell_price\"]\n",
    "df.head()"
   ]
  },
  {
   "cell_type": "code",
   "execution_count": 19,
   "metadata": {},
   "outputs": [
    {
     "name": "stdout",
     "output_type": "stream",
     "text": [
      "2011-01-29 00:00:00 2016-01-21 00:00:00\n",
      "store_ids: [2 3 1]\n"
     ]
    }
   ],
   "source": [
    "print(df.date.min(), df.date.max())\n",
    "print(f\"store_ids: {df.store_id.unique()}\")"
   ]
  },
  {
   "cell_type": "code",
   "execution_count": 20,
   "metadata": {},
   "outputs": [],
   "source": [
    "df.to_excel(r'/Users/semyondipner/Desktop/' + r'data' + r'.xlsx')"
   ]
  },
  {
   "cell_type": "markdown",
   "metadata": {},
   "source": [
    "# ❓ Вопросы\n",
    "\n",
    "**KPI:**\n",
    "1. Сколько у нас всего магазинов?\n",
    "2. Сколько у нас всего уникальных товаров?\n",
    "3. Сколько было всего продаж?\n",
    "4. Сколько денег мы заработали? Какая у нас была выручка?\n",
    "\n",
    "**Магазины:**\n",
    "1. В каком магазине происходит больше всего продаж?\n",
    "2. Как много денег мы зарабатываем с каждого из магазинов?\n",
    "3. Какой магазин приносит больше всего прибыли и почему?\n",
    "\n",
    "**Товары:**\n",
    "1. Какие товары продаются лучше/хуже всего?\n",
    "2. \n",
    "\n",
    "**Магазины & Товары:**\n",
    "1. Отличается ли топ товаров в зависимости от магазина?\n",
    "2. "
   ]
  },
  {
   "cell_type": "code",
   "execution_count": 32,
   "metadata": {},
   "outputs": [],
   "source": [
    "# Filters\n",
    "store_ids = [1, 2, 3]\n",
    "item_ids = df.item_id.unique().tolist()\n",
    "date1 = dt(year=2015, month=1, day=29)\n",
    "date2 = dt(year=2016, month=1, day=22)\n",
    "temp_df = df[\n",
    "    (df[\"store_id\"].isin(store_ids))\n",
    "    & (df[\"item_id\"].isin(item_ids))\n",
    "    & (df[\"date\"] >= date1)\n",
    "    & (df[\"date\"] <  date2)\n",
    "].copy()\n",
    "temp_df['date'] = temp_df['date'].dt.strftime('%Y-%m-%d')"
   ]
  },
  {
   "cell_type": "code",
   "execution_count": 33,
   "metadata": {},
   "outputs": [
    {
     "data": {
      "text/html": [
       "<div>\n",
       "<style scoped>\n",
       "    .dataframe tbody tr th:only-of-type {\n",
       "        vertical-align: middle;\n",
       "    }\n",
       "\n",
       "    .dataframe tbody tr th {\n",
       "        vertical-align: top;\n",
       "    }\n",
       "\n",
       "    .dataframe thead th {\n",
       "        text-align: right;\n",
       "    }\n",
       "</style>\n",
       "<table border=\"1\" class=\"dataframe\">\n",
       "  <thead>\n",
       "    <tr style=\"text-align: right;\">\n",
       "      <th></th>\n",
       "      <th>store_id</th>\n",
       "      <th>item_id</th>\n",
       "      <th>cnt</th>\n",
       "      <th>gmv</th>\n",
       "    </tr>\n",
       "  </thead>\n",
       "  <tbody>\n",
       "    <tr>\n",
       "      <th>num_uniq_shops</th>\n",
       "      <td>3.0</td>\n",
       "      <td>NaN</td>\n",
       "      <td>NaN</td>\n",
       "      <td>NaN</td>\n",
       "    </tr>\n",
       "    <tr>\n",
       "      <th>num_uniq_items</th>\n",
       "      <td>NaN</td>\n",
       "      <td>31.0</td>\n",
       "      <td>NaN</td>\n",
       "      <td>NaN</td>\n",
       "    </tr>\n",
       "    <tr>\n",
       "      <th>total_sales</th>\n",
       "      <td>NaN</td>\n",
       "      <td>NaN</td>\n",
       "      <td>338111.0</td>\n",
       "      <td>NaN</td>\n",
       "    </tr>\n",
       "    <tr>\n",
       "      <th>total_gmv</th>\n",
       "      <td>NaN</td>\n",
       "      <td>NaN</td>\n",
       "      <td>NaN</td>\n",
       "      <td>571247.52</td>\n",
       "    </tr>\n",
       "  </tbody>\n",
       "</table>\n",
       "</div>"
      ],
      "text/plain": [
       "                store_id  item_id       cnt        gmv\n",
       "num_uniq_shops       3.0      NaN       NaN        NaN\n",
       "num_uniq_items       NaN     31.0       NaN        NaN\n",
       "total_sales          NaN      NaN  338111.0        NaN\n",
       "total_gmv            NaN      NaN       NaN  571247.52"
      ]
     },
     "execution_count": 33,
     "metadata": {},
     "output_type": "execute_result"
    }
   ],
   "source": [
    "temp_df.agg(\n",
    "    num_uniq_shops=('store_id', 'nunique'),\n",
    "    num_uniq_items=('item_id', 'nunique'),\n",
    "    total_sales=('cnt', 'sum'),\n",
    "    total_gmv=('gmv', 'sum')\n",
    ")"
   ]
  },
  {
   "cell_type": "markdown",
   "metadata": {},
   "source": [
    "## KPI"
   ]
  },
  {
   "cell_type": "code",
   "execution_count": 34,
   "metadata": {},
   "outputs": [
    {
     "data": {
      "text/plain": [
       "{'num_uniq_shops': 3.0,\n",
       " 'num_uniq_items': 31.0,\n",
       " 'total_sales': 338111.0,\n",
       " 'total_gmv': 571247.52}"
      ]
     },
     "execution_count": 34,
     "metadata": {},
     "output_type": "execute_result"
    }
   ],
   "source": [
    "kpi_metrics = ( \n",
    "    temp_df\n",
    "    .agg({\n",
    "        \"store_id\": \"nunique\",\n",
    "        \"item_id\": \"nunique\",\n",
    "        \"cnt\": \"sum\",\n",
    "        \"gmv\": \"sum\"\n",
    "    })\n",
    "    .rename({\n",
    "        \"store_id\": \"num_uniq_shops\",\n",
    "        \"item_id\": \"num_uniq_items\",\n",
    "        \"cnt\": \"total_sales\",\n",
    "        \"gmv\": \"total_gmv\"\n",
    "    })\n",
    "    .to_dict()\n",
    ")\n",
    "kpi_metrics"
   ]
  },
  {
   "cell_type": "markdown",
   "metadata": {},
   "source": [
    "## Tables"
   ]
  },
  {
   "cell_type": "code",
   "execution_count": 35,
   "metadata": {},
   "outputs": [],
   "source": [
    "table_shop_sales = (\n",
    "    temp_df\n",
    "    .groupby([\"store_id\"])\n",
    "    .agg(\n",
    "        uniq_item_sale=('item_id', 'nunique'),\n",
    "        sales=('cnt', 'sum'),\n",
    "        gmv=('gmv', 'sum')\n",
    "    )\n",
    "    .sort_values(\"sales\", ascending=False)\n",
    "    .reset_index()\n",
    "    .to_dict('split')\n",
    ")\n",
    "\n",
    "table_item_sales = (\n",
    "    temp_df\n",
    "    .groupby([\"item_id\"])\n",
    "    .agg(\n",
    "        uniq_item_sale=('store_id', 'nunique'),\n",
    "        sales=('cnt', 'sum'),\n",
    "        gmv=('gmv', 'sum')\n",
    "    )\n",
    "    .sort_values(\"sales\", ascending=False)\n",
    "    .reset_index()\n",
    "    .to_dict('split')\n",
    ")\n",
    "\n",
    "table_shop_item_sales = (\n",
    "    temp_df\n",
    "    .groupby([\"store_id\", \"item_id\"])\n",
    "    .agg(\n",
    "        sales=('cnt', 'sum'),\n",
    "        gmv=('gmv', 'sum')\n",
    "    )\n",
    "    .sort_values(\"sales\", ascending=False)\n",
    "    .reset_index()\n",
    "    .to_dict('split')\n",
    ")"
   ]
  },
  {
   "cell_type": "markdown",
   "metadata": {},
   "source": [
    "## Linecharts"
   ]
  },
  {
   "cell_type": "code",
   "execution_count": 36,
   "metadata": {},
   "outputs": [],
   "source": [
    "from typing import List\n",
    "\n",
    "def prepare_df(df: pd.DataFrame, index_list: List[str]):\n",
    "    \"\"\"\n",
    "    Prepare DF for Anomaly Detection.\n",
    "\n",
    "    —— Example 1 —— ( index_list = [\"time\"] )\n",
    "    Input:\n",
    "                  time  DAU  ...  Т-Прибыль\n",
    "        0   2023-04-01  388  ...     186311\n",
    "        1   2023-04-02  356  ...     200867\n",
    "        2   2023-04-03  332  ...     126016\n",
    "        3   2023-04-04  362  ...     165649\n",
    "        4   2023-04-05  364  ...     151476\n",
    "        ...\n",
    "\n",
    "    Output:\n",
    "                metric        time   value\n",
    "        0          DAU  2023-04-01     388\n",
    "        1          DAU  2023-04-02     356\n",
    "        2          DAU  2023-04-03     332\n",
    "        3          DAU  2023-04-04     362\n",
    "        4          DAU  2023-04-05     364\n",
    "        ..         ...         ...     ...\n",
    "        235  Т-Прибыль  2023-04-26  408807\n",
    "        236  Т-Прибыль  2023-04-27  366919\n",
    "        237  Т-Прибыль  2023-04-28  484113\n",
    "        238  Т-Прибыль  2023-04-29  470874\n",
    "        239  Т-Прибыль  2023-04-30  252187\n",
    "\n",
    "    —— Example 2 —— ( index_list = [\"service\", \"time\"] )\n",
    "    Input:\n",
    "                    time               service  DAU  ...   Т-Прибыль\n",
    "        0     2023-04-01                 1xbet   75  ...       82616\n",
    "        1     2023-04-01         1xbet_invoice    3  ...        2448\n",
    "        2     2023-04-01     1xbetsub2_wp_sale   27  ...           0\n",
    "        3     2023-04-01                 activ    5  ...          39\n",
    "        4     2023-04-01  addressless_transfer    1  ...           0\n",
    "\n",
    "    Output:\n",
    "                  metric     service        time  value\n",
    "        0            DAU       1xbet  2023-04-01     75\n",
    "        1            DAU       1xbet  2023-04-02     63\n",
    "        2            DAU       1xbet  2023-04-03     50\n",
    "        3            DAU       1xbet  2023-04-04     68\n",
    "        4            DAU       1xbet  2023-04-05     71\n",
    "        ...          ...         ...         ...    ...\n",
    "        13067  Т-Прибыль  wpsub_sale  2023-04-30 -49349\n",
    "        13068  Т-Прибыль      xsolla  2023-04-23      0\n",
    "        13069  Т-Прибыль      zepter  2023-04-04    -11\n",
    "        13070  Т-Прибыль      zepter  2023-04-05    -31\n",
    "        13071  Т-Прибыль      zepter  2023-04-14    -85\n",
    "    \"\"\"\n",
    "    level_counter = len(index_list)\n",
    "    df = df.set_index(index_list).stack().reset_index().rename(columns={\n",
    "        f\"level_{level_counter}\": \"metric\",\n",
    "        0: \"value\"\n",
    "    })\n",
    "    df = df.groupby([\"metric\", *index_list])[\"value\"].sum().reset_index()\n",
    "    return df.copy()\n",
    "\n",
    "def get_anomalies(df: pd.DataFrame, groupby_list: List[str]):\n",
    "    \"\"\"\n",
    "    Input:\n",
    "        Prepared DF.\n",
    "    Output:\n",
    "        pd.DataFrame with anomalies.\n",
    "    \"\"\"\n",
    "    # ROLLING MEAN\n",
    "    df[\"rolling_mean\"] = (\n",
    "        df\n",
    "        .groupby(groupby_list)\n",
    "        ['value']\n",
    "        .rolling(5)\n",
    "        .mean()\n",
    "        .reset_index(drop=True)\n",
    "    )\n",
    "\n",
    "    # STD\n",
    "    df = df.merge(\n",
    "        right=round(df.groupby(groupby_list)[\"value\"].std()).reset_index()\n",
    "        .rename(columns={\"value\": \"std\"}), on=groupby_list, how=\"left\")\n",
    "\n",
    "    df = df[df[\"std\"] > 1].copy()\n",
    "    # Upper/Lower Bounds\n",
    "    df[\"upper_bound\"] = df[\"rolling_mean\"] + (df[\"std\"] * 2.57)\n",
    "    df[\"lower_bound\"] = df[\"rolling_mean\"] - (df[\"std\"] * 2.57)\n",
    "\n",
    "    df[\"indicator\"] = np.where(\n",
    "        df[\"value\"] > df[\"upper_bound\"], 1,\n",
    "        np.where(\n",
    "            df[\"value\"] < df[\"lower_bound\"], -1,\n",
    "            0\n",
    "        )\n",
    "    )\n",
    "    df[\"deviation%\"] = round(((df[\"value\"] / df[\"rolling_mean\"]) - 1) * 100)\n",
    "    # df[df[\"indicator\"] != 0].copy()\n",
    "    return df"
   ]
  },
  {
   "cell_type": "code",
   "execution_count": 37,
   "metadata": {},
   "outputs": [],
   "source": [
    "dynamics_df = temp_df.groupby([\"date\"]).agg({col: \"sum\" for col in [\"cnt\", \"gmv\"]}).reset_index()\n",
    "dynamics_df = prepare_df(dynamics_df, index_list=[\"date\"])\n",
    "anomalies_df = get_anomalies(dynamics_df, groupby_list=[\"metric\"])\n",
    "anomalies_df.drop(columns=[\"std\"], inplace=True)\n",
    "sales_dynamics = (\n",
    "    anomalies_df\n",
    "    [anomalies_df[\"metric\"] == \"cnt\"]\n",
    "    .reset_index(drop=True)\n",
    "    .drop(columns=[\"metric\"])\n",
    "    .to_dict('split')\n",
    ")\n",
    "gmv_dynamics = (\n",
    "    anomalies_df\n",
    "    [anomalies_df[\"metric\"] == \"gmv\"]\n",
    "    .reset_index(drop=True)\n",
    "    .drop(columns=[\"metric\"])\n",
    "    .to_dict('split')\n",
    ")"
   ]
  },
  {
   "cell_type": "code",
   "execution_count": 38,
   "metadata": {},
   "outputs": [
    {
     "data": {
      "text/plain": [
       "{'index': [0, 1, 2],\n",
       " 'columns': ['store_id', 'uniq_item_sale', 'sales', 'gmv'],\n",
       " 'data': [[2, 15, 136870, 216235.15],\n",
       "  [3, 15, 126750, 230840.41999999998],\n",
       "  [1, 15, 74491, 124171.95]]}"
      ]
     },
     "execution_count": 38,
     "metadata": {},
     "output_type": "execute_result"
    }
   ],
   "source": [
    "table_shop_sales"
   ]
  },
  {
   "cell_type": "code",
   "execution_count": 39,
   "metadata": {},
   "outputs": [],
   "source": [
    "analytics_dashboard_json = {\n",
    "    \"kpi\": kpi_metrics,\n",
    "    \"tables\": {\n",
    "        \"table_shop_sales\": table_shop_sales,\n",
    "        \"table_item_sales\": table_item_sales,\n",
    "        \"table_shop_item_sales\": table_shop_item_sales\n",
    "    },\n",
    "    \"dynamics\": {\n",
    "        \"sales_dynamics\": sales_dynamics,\n",
    "        \"gmv_dynamics\": gmv_dynamics\n",
    "    }\n",
    "}"
   ]
  },
  {
   "cell_type": "code",
   "execution_count": 42,
   "metadata": {},
   "outputs": [],
   "source": [
    "import json\n",
    "\n",
    "with open(\"test_nested.json\", \"w\") as outfile:\n",
    "    json.dump(analytics_dashboard_json, outfile)"
   ]
  }
 ],
 "metadata": {
  "kernelspec": {
   "display_name": "Python 3",
   "language": "python",
   "name": "python3"
  },
  "language_info": {
   "codemirror_mode": {
    "name": "ipython",
    "version": 3
   },
   "file_extension": ".py",
   "mimetype": "text/x-python",
   "name": "python",
   "nbconvert_exporter": "python",
   "pygments_lexer": "ipython3",
   "version": "3.11.7"
  }
 },
 "nbformat": 4,
 "nbformat_minor": 2
}
